{
 "cells": [
  {
   "cell_type": "code",
   "execution_count": 1,
   "id": "16d99c8f",
   "metadata": {},
   "outputs": [],
   "source": [
    "import sys\n",
    "sys.dont_write_bytecode = True\n",
    "\n",
    "# for debug print\n",
    "def chkprint(*args):\n",
    "    from inspect import currentframe\n",
    "    names = {id(v):k for k,v in currentframe().f_back.f_locals.items()}\n",
    "    print(', '.join(names.get(id(arg),'???')+' : '+str(type(arg))+' = '+repr(arg) for arg in args))"
   ]
  },
  {
   "cell_type": "code",
   "execution_count": 2,
   "id": "cb9cedeb",
   "metadata": {},
   "outputs": [],
   "source": [
    "import pandas as pd\n",
    "from sklearn.utils import all_estimators\n",
    "from sklearn.model_selection import KFold\n",
    "import warnings\n",
    "from sklearn.model_selection import cross_val_score\n",
    "import time"
   ]
  },
  {
   "cell_type": "code",
   "execution_count": 8,
   "id": "dc8ec744",
   "metadata": {},
   "outputs": [
    {
     "name": "stdout",
     "output_type": "stream",
     "text": [
      "\n",
      " name       : RandomForestClassifier\n",
      "algorithm : <class 'abc.ABCMeta'> = <class 'sklearn.ensemble._forest.RandomForestClassifier'>\n",
      "RandomForestClassifier の正解率=\n",
      "[nan nan nan nan nan]\n",
      "\n",
      " name       : SVC\n",
      "algorithm : <class 'abc.ABCMeta'> = <class 'sklearn.svm._classes.SVC'>\n",
      "SVC の正解率=\n",
      "[0.92653061 0.92244898 0.91020408 0.93156282 0.93871297]\n",
      "\n",
      " elapsed_time:0.7813420295715332[sec]\n"
     ]
    }
   ],
   "source": [
    "# 時間計測 start\n",
    "start = time.time()\n",
    "\n",
    "# ワイン白データ読み込み\n",
    "wine = pd.read_csv(\"winequality-white.csv\", sep=\";\", encoding=\"utf-8\")\n",
    "\n",
    "# データをラベルとデータに分離 \n",
    "y = wine[\"quality\"]\n",
    "x = wine.drop(\"quality\", axis=1)\n",
    "\n",
    "# y のラベルを付け直す \n",
    "newlist = []\n",
    "for v in list(y):\n",
    "    if v <= 4:\n",
    "        newlist += [0]\n",
    "    elif v <=7:\n",
    "        newlist += [1]\n",
    "    else:\n",
    "        newlist += [2]\n",
    "y = newlist\n",
    "\n",
    "# classifierのアルゴリズム全てを取得する \n",
    "allAlgorithms = all_estimators(type_filter=\"classifier\")\n",
    "\n",
    "# K分割クロスバリデーション用オブジェクト --- (※1)\n",
    "kfold_cv = KFold(n_splits=5, shuffle=True)\n",
    "warnings.filterwarnings('ignore')\n",
    "\n",
    "for(name, algorithm) in allAlgorithms :\n",
    "  try :\n",
    "    # 各アリゴリズムのオブジェクトを作成\n",
    "    #if(name == \"LinearSVC\") :\n",
    "    # clf = algorithm(max_iter = 10000)\n",
    "    #else:\n",
    "    #  clf = algorithm()\n",
    "    \n",
    "    if(name == \"SVC\") :\n",
    "      print(\"\\n name       : \" + name)\n",
    "      chkprint(algorithm)\n",
    "      clf = algorithm()\n",
    "    elif(name == \"RandomForestClassifier\"):\n",
    "      print(\"\\n name       : \" + name)\n",
    "      chkprint(algorithm)\n",
    "      clf = algorithm(help)\n",
    "    else:\n",
    "      continue\n",
    "      #clf = algorithm()\n",
    "\n",
    "    # scoreメソッドをもつクラスを対象とする--- (※2)\n",
    "    if hasattr(clf,\"score\"):\n",
    "        # クロスバリデーションを行う--- (※3)\n",
    "        scores = cross_val_score(clf, x, y, cv=kfold_cv)\n",
    "        #chkprint(scores)\n",
    "        print(name,\"の正解率=\")\n",
    "        print(scores)\n",
    "  \n",
    "  # Exceptionは無視する\n",
    "  except Exception as e :\n",
    "    pass\n",
    "\n",
    "# 時間計測 finish\n",
    "elapsed_time = time.time() - start\n",
    "print (\"\\n elapsed_time:{0}\".format(elapsed_time) + \"[sec]\")"
   ]
  }
 ],
 "metadata": {
  "kernelspec": {
   "display_name": "Python 3 (ipykernel)",
   "language": "python",
   "name": "python3"
  },
  "language_info": {
   "codemirror_mode": {
    "name": "ipython",
    "version": 3
   },
   "file_extension": ".py",
   "mimetype": "text/x-python",
   "name": "python",
   "nbconvert_exporter": "python",
   "pygments_lexer": "ipython3",
   "version": "3.8.5"
  }
 },
 "nbformat": 4,
 "nbformat_minor": 5
}
