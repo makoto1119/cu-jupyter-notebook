{
 "cells": [
  {
   "cell_type": "code",
   "execution_count": 1,
   "id": "3878fd25",
   "metadata": {},
   "outputs": [],
   "source": [
    "from sklearn.neighbors import KNeighborsClassifier\n",
    "from sklearn.metrics import accuracy_score"
   ]
  },
  {
   "cell_type": "code",
   "execution_count": 2,
   "id": "258a2199",
   "metadata": {},
   "outputs": [
    {
     "name": "stdout",
     "output_type": "stream",
     "text": [
      "[[0, 0], [1, 0], [0, 1], [1, 1]] の予測結果: [0 1 1 0]\n",
      "正解率 =  1.0\n"
     ]
    }
   ],
   "source": [
    "learn_data = [[0,0], [1,0], [0,1], [1,1]]\n",
    "learn_label = [0, 1, 1, 0]\n",
    "\n",
    "clf = KNeighborsClassifier(n_neighbors = 1)\n",
    "clf.fit(learn_data, learn_label)\n",
    "\n",
    "test_data = [[0,0], [1,0], [0,1], [1,1]]\n",
    "test_label = clf.predict(test_data)\n",
    "\n",
    "print(test_data , \"の予測結果:\" , test_label)\n",
    "print(\"正解率 = \" , accuracy_score([0, 1, 1, 0], test_label))"
   ]
  }
 ],
 "metadata": {
  "kernelspec": {
   "display_name": "Python 3 (ipykernel)",
   "language": "python",
   "name": "python3"
  },
  "language_info": {
   "codemirror_mode": {
    "name": "ipython",
    "version": 3
   },
   "file_extension": ".py",
   "mimetype": "text/x-python",
   "name": "python",
   "nbconvert_exporter": "python",
   "pygments_lexer": "ipython3",
   "version": "3.8.0"
  }
 },
 "nbformat": 4,
 "nbformat_minor": 5
}
