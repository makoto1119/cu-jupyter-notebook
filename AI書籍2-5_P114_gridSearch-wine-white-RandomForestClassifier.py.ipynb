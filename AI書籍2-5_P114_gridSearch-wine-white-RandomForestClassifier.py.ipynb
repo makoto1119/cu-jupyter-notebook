{
 "cells": [
  {
   "cell_type": "code",
   "execution_count": 1,
   "id": "16d99c8f",
   "metadata": {},
   "outputs": [],
   "source": [
    "import sys\n",
    "sys.dont_write_bytecode = True\n",
    "\n",
    "# for debug print\n",
    "def chkprint(*args):\n",
    "    from inspect import currentframe\n",
    "    names = {id(v):k for k,v in currentframe().f_back.f_locals.items()}\n",
    "    print(', '.join(names.get(id(arg),'???')+' : '+str(type(arg))+' = '+repr(arg) for arg in args))"
   ]
  },
  {
   "cell_type": "code",
   "execution_count": 2,
   "id": "cb9cedeb",
   "metadata": {},
   "outputs": [],
   "source": [
    "import pandas as pd\n",
    "import numpy as np\n",
    "from sklearn import datasets\n",
    "from sklearn.ensemble        import RandomForestClassifier\n",
    "from sklearn.model_selection import GridSearchCV\n",
    "from sklearn.model_selection import train_test_split\n",
    "import time"
   ]
  },
  {
   "cell_type": "code",
   "execution_count": 3,
   "id": "dc8ec744",
   "metadata": {},
   "outputs": [
    {
     "name": "stdout",
     "output_type": "stream",
     "text": [
      "最適なパラメータ =  {'max_depth': 30, 'max_features': 'auto', 'n_estimators': 100}\n",
      "評価時の正解率 =  0.9412962311361326\n",
      "\n",
      " elapsed_time:374.21263217926025[sec]\n"
     ]
    }
   ],
   "source": [
    "# 参考\n",
    "# https://di-acc2.com/programming/python/8465/ \n",
    "\n",
    "# 時間計測 start\n",
    "start = time.time()\n",
    "\n",
    "# ワイン白データ読み込み\n",
    "wine = pd.read_csv(\"winequality-white.csv\", sep=\";\", encoding=\"utf-8\")\n",
    "\n",
    "# データをラベルとデータに分離 \n",
    "y = wine[\"quality\"]\n",
    "x = wine.drop(\"quality\", axis=1)\n",
    "\n",
    "# y のラベルを付け直す \n",
    "newlist = []\n",
    "for v in list(y):\n",
    "    if v <= 4:\n",
    "        newlist += [0]\n",
    "    elif v <=7:\n",
    "        newlist += [1]\n",
    "    else:\n",
    "        newlist += [2]\n",
    "y = newlist\n",
    "\n",
    "# 学習用とテスト用に分離する \n",
    "x_train, x_test, y_train, y_test = train_test_split(x, y, test_size = 0.2, train_size = 0.8, shuffle = True)\n",
    "\n",
    "# グリッドサーチによるハイパーパラメータ探索候補設定\n",
    "# 今回はRandomForestClassifierのパラメータが対象(値は任意に設定)\n",
    "parameters = {  \n",
    "    'n_estimators': [10, 20, 30, 50, 100, 300],     # 用意する決定木モデルの数\n",
    "    'max_features': ('sqrt', 'log2','auto', None),  # ランダムに指定する特徴量の数\n",
    "    'max_depth':    (10, 20, 30, 40, 50, None),     # 決定木のノード深さの制限値\n",
    "}\n",
    "\n",
    "# モデルインスタンス\n",
    "model = RandomForestClassifier()\n",
    "\n",
    "# ハイパーパラメータチューニング(グリッドサーチのコンストラクタにモデルと辞書パラメータを指定)\n",
    "gridsearch = GridSearchCV(estimator = model,        # モデル\n",
    "                          param_grid = parameters,  # チューニングするハイパーパラメータ\n",
    "                          scoring = \"accuracy\"      # スコアリング\n",
    "                         )\n",
    "\n",
    "# 演算実行\n",
    "gridsearch.fit(x_train, y_train)\n",
    "\n",
    "# グリッドサーチの結果から得られた最適なパラメータ候補を確認\n",
    "print(\"最適なパラメータ = \", format(gridsearch.best_params_)) \n",
    "print(\"評価時の正解率 = \", format(gridsearch.best_score_))\n",
    "\n",
    "\n",
    "# 時間計測 finish\n",
    "elapsed_time = time.time() - start\n",
    "print (\"\\n elapsed_time:{0}\".format(elapsed_time) + \"[sec]\")"
   ]
  }
 ],
 "metadata": {
  "kernelspec": {
   "display_name": "Python 3 (ipykernel)",
   "language": "python",
   "name": "python3"
  },
  "language_info": {
   "codemirror_mode": {
    "name": "ipython",
    "version": 3
   },
   "file_extension": ".py",
   "mimetype": "text/x-python",
   "name": "python",
   "nbconvert_exporter": "python",
   "pygments_lexer": "ipython3",
   "version": "3.8.5"
  }
 },
 "nbformat": 4,
 "nbformat_minor": 5
}
