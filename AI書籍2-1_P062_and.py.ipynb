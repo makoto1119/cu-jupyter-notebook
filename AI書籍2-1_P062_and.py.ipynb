{
 "cells": [
  {
   "cell_type": "code",
   "execution_count": null,
   "id": "4caf1d9a",
   "metadata": {},
   "outputs": [],
   "source": [
    "pwd"
   ]
  },
  {
   "cell_type": "code",
   "execution_count": null,
   "id": "d89fcdce",
   "metadata": {},
   "outputs": [],
   "source": [
    "pip install sklearn"
   ]
  },
  {
   "cell_type": "code",
   "execution_count": null,
   "id": "e16650e1",
   "metadata": {},
   "outputs": [],
   "source": [
    "pip install typeDict"
   ]
  },
  {
   "cell_type": "code",
   "execution_count": null,
   "id": "0a637e77",
   "metadata": {},
   "outputs": [],
   "source": [
    "pip install numpy"
   ]
  },
  {
   "cell_type": "code",
   "execution_count": null,
   "id": "671188b4",
   "metadata": {},
   "outputs": [],
   "source": [
    "pip list |grep numpy"
   ]
  },
  {
   "cell_type": "code",
   "execution_count": null,
   "id": "ad3e1541",
   "metadata": {},
   "outputs": [],
   "source": [
    "import numpy as np\n",
    "print(np.__version__)"
   ]
  },
  {
   "cell_type": "code",
   "execution_count": null,
   "id": "e13a59c4",
   "metadata": {},
   "outputs": [],
   "source": [
    "# pip uninstall -y numpy"
   ]
  },
  {
   "cell_type": "code",
   "execution_count": null,
   "id": "a17c6af8",
   "metadata": {},
   "outputs": [],
   "source": [
    "# pip install numpy==1.19"
   ]
  },
  {
   "cell_type": "code",
   "execution_count": null,
   "id": "7a637cc7",
   "metadata": {},
   "outputs": [],
   "source": [
    "import tensorflow as tf \n",
    "print(tf.__version__)"
   ]
  },
  {
   "cell_type": "code",
   "execution_count": null,
   "id": "3878fd25",
   "metadata": {},
   "outputs": [],
   "source": [
    "from sklearn.svm import LinearSVC\n",
    "from sklearn.metrics import accuracy_score"
   ]
  },
  {
   "cell_type": "code",
   "execution_count": null,
   "id": "258a2199",
   "metadata": {},
   "outputs": [],
   "source": [
    "learn_data = [[0,0], [1,0], [0,1], [1,1]]\n",
    "learn_label = [0, 0, 0, 1]\n",
    "clf = LinearSVC()\n",
    "clf.fit(learn_data, learn_label)\n",
    "test_data = [[0,0], [1,0], [0,1], [1,1]]\n",
    "test_label = clf.predict(test_data)\n",
    "print(test_data , \"の予測結果:\" , test_label)\n",
    "print(\"正解率 = \" , accuracy_score([0, 0, 0, 1], test_label))"
   ]
  }
 ],
 "metadata": {
  "kernelspec": {
   "display_name": "Python 3 (ipykernel)",
   "language": "python",
   "name": "python3"
  },
  "language_info": {
   "codemirror_mode": {
    "name": "ipython",
    "version": 3
   },
   "file_extension": ".py",
   "mimetype": "text/x-python",
   "name": "python",
   "nbconvert_exporter": "python",
   "pygments_lexer": "ipython3",
   "version": "3.8.0"
  }
 },
 "nbformat": 4,
 "nbformat_minor": 5
}
