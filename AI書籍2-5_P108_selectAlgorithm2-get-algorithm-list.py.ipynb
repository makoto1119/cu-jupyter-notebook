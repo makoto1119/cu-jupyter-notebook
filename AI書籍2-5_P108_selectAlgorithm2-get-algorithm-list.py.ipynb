{
 "cells": [
  {
   "cell_type": "code",
   "execution_count": 1,
   "id": "16d99c8f",
   "metadata": {},
   "outputs": [],
   "source": [
    "import sys\n",
    "sys.dont_write_bytecode = True\n",
    "\n",
    "# for debug print\n",
    "def chkprint(*args):\n",
    "    from inspect import currentframe\n",
    "    names = {id(v):k for k,v in currentframe().f_back.f_locals.items()}\n",
    "    print(', '.join(names.get(id(arg),'???')+' : '+str(type(arg))+' = '+repr(arg) for arg in args))"
   ]
  },
  {
   "cell_type": "code",
   "execution_count": 2,
   "id": "cb9cedeb",
   "metadata": {},
   "outputs": [],
   "source": [
    "import pandas as pd\n",
    "import numpy as np\n",
    "from sklearn.model_selection import train_test_split\n",
    "from sklearn.metrics import accuracy_score\n",
    "from sklearn.utils import all_estimators\n",
    "import warnings\n",
    "import time"
   ]
  },
  {
   "cell_type": "code",
   "execution_count": 3,
   "id": "95c1fb5f",
   "metadata": {},
   "outputs": [
    {
     "name": "stdout",
     "output_type": "stream",
     "text": [
      "41\n",
      "AdaBoostClassifier\n",
      "BaggingClassifier\n",
      "BernoulliNB\n",
      "CalibratedClassifierCV\n",
      "CategoricalNB\n",
      "ClassifierChain\n",
      "ComplementNB\n",
      "DecisionTreeClassifier\n",
      "DummyClassifier\n",
      "ExtraTreeClassifier\n",
      "ExtraTreesClassifier\n",
      "GaussianNB\n",
      "GaussianProcessClassifier\n",
      "GradientBoostingClassifier\n",
      "HistGradientBoostingClassifier\n",
      "KNeighborsClassifier\n",
      "LabelPropagation\n",
      "LabelSpreading\n",
      "LinearDiscriminantAnalysis\n",
      "LinearSVC\n",
      "LogisticRegression\n",
      "LogisticRegressionCV\n",
      "MLPClassifier\n",
      "MultiOutputClassifier\n",
      "MultinomialNB\n",
      "NearestCentroid\n",
      "NuSVC\n",
      "OneVsOneClassifier\n",
      "OneVsRestClassifier\n",
      "OutputCodeClassifier\n",
      "PassiveAggressiveClassifier\n",
      "Perceptron\n",
      "QuadraticDiscriminantAnalysis\n",
      "RadiusNeighborsClassifier\n",
      "RandomForestClassifier\n",
      "RidgeClassifier\n",
      "RidgeClassifierCV\n",
      "SGDClassifier\n",
      "SVC\n",
      "StackingClassifier\n",
      "VotingClassifier\n",
      "\n",
      " elapsed_time:0.42841029167175293[sec]\n"
     ]
    }
   ],
   "source": [
    "# 時間計測 start\n",
    "start = time.time()\n",
    "\n",
    "# classifierのアルゴリズム全てを取得する --- (※1)\n",
    "allAlgorithms = all_estimators(type_filter=\"classifier\")\n",
    "warnings.simplefilter(\"error\")\n",
    "\n",
    "# オールアルゴリズムのリスト表示 と 数\n",
    "#chkprint(allAlgorithms)\n",
    "print(len(allAlgorithms))\n",
    "\n",
    "for(name, algorithm) in allAlgorithms :\n",
    "  print(name)\n",
    "  #print(\"algorithm: \" + str(algorithm))  \n",
    "  #chkprint(algorithm)\n",
    "\n",
    "    \n",
    "# 時間計測 finish\n",
    "elapsed_time = time.time() - start\n",
    "print (\"\\n elapsed_time:{0}\".format(elapsed_time) + \"[sec]\")"
   ]
  },
  {
   "cell_type": "code",
   "execution_count": null,
   "id": "3b424d50",
   "metadata": {},
   "outputs": [],
   "source": []
  }
 ],
 "metadata": {
  "kernelspec": {
   "display_name": "Python 3 (ipykernel)",
   "language": "python",
   "name": "python3"
  },
  "language_info": {
   "codemirror_mode": {
    "name": "ipython",
    "version": 3
   },
   "file_extension": ".py",
   "mimetype": "text/x-python",
   "name": "python",
   "nbconvert_exporter": "python",
   "pygments_lexer": "ipython3",
   "version": "3.8.5"
  }
 },
 "nbformat": 4,
 "nbformat_minor": 5
}
