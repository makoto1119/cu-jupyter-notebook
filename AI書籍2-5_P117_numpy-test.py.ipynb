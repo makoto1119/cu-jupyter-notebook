{
 "cells": [
  {
   "cell_type": "code",
   "execution_count": 1,
   "id": "16d99c8f",
   "metadata": {},
   "outputs": [],
   "source": [
    "import sys\n",
    "sys.dont_write_bytecode = True\n",
    "\n",
    "# for debug print\n",
    "def chkprint(*args):\n",
    "    from inspect import currentframe\n",
    "    names = {id(v):k for k,v in currentframe().f_back.f_locals.items()}\n",
    "    print(', '.join(names.get(id(arg),'???')+' : '+str(type(arg))+' = '+repr(arg) for arg in args))"
   ]
  },
  {
   "cell_type": "code",
   "execution_count": 2,
   "id": "cb9cedeb",
   "metadata": {},
   "outputs": [],
   "source": [
    "import numpy as np"
   ]
  },
  {
   "cell_type": "code",
   "execution_count": 3,
   "id": "4c53429d",
   "metadata": {},
   "outputs": [
    {
     "name": "stdout",
     "output_type": "stream",
     "text": [
      "a : <class 'numpy.ndarray'> = array([1, 2, 3, 4, 5])\n",
      "[1 2 3 4 5]\n"
     ]
    }
   ],
   "source": [
    "# NumPy 配列初期化\n",
    "a = np.array([1, 2, 3, 4, 5])\n",
    "chkprint(a)\n",
    "print(a)"
   ]
  },
  {
   "cell_type": "code",
   "execution_count": 4,
   "id": "c311a17a",
   "metadata": {},
   "outputs": [
    {
     "name": "stdout",
     "output_type": "stream",
     "text": [
      "b : <class 'numpy.ndarray'> = array([[1, 2, 3],\n",
      "       [4, 5, 6]])\n",
      "[[1 2 3]\n",
      " [4 5 6]]\n"
     ]
    }
   ],
   "source": [
    "# 二次元配列\n",
    "b = np.array([[1, 2, 3], [4, 5, 6]])\n",
    "chkprint(b)\n",
    "print(b)"
   ]
  },
  {
   "cell_type": "code",
   "execution_count": 5,
   "id": "5921d7aa",
   "metadata": {},
   "outputs": [
    {
     "name": "stdout",
     "output_type": "stream",
     "text": [
      "[0. 0. 0. 0. 0. 0. 0. 0. 0. 0.]\n",
      "[[0. 0.]\n",
      " [0. 0.]\n",
      " [0. 0.]]\n"
     ]
    }
   ],
   "source": [
    "# 配列初期化 (一気に)\n",
    "print(np.zeros(10))\n",
    "print(np.zeros((3, 2)))"
   ]
  },
  {
   "cell_type": "code",
   "execution_count": 6,
   "id": "4d2d23f5",
   "metadata": {},
   "outputs": [
    {
     "name": "stdout",
     "output_type": "stream",
     "text": [
      "[1. 1. 1. 1. 1. 1. 1. 1. 1. 1.]\n",
      "[[1. 1.]\n",
      " [1. 1.]\n",
      " [1. 1.]]\n"
     ]
    }
   ],
   "source": [
    "# 1 で初期化\n",
    "print(np.ones(10))\n",
    "print(np.ones((3, 2)))"
   ]
  },
  {
   "cell_type": "code",
   "execution_count": 7,
   "id": "ee30a488",
   "metadata": {},
   "outputs": [
    {
     "name": "stdout",
     "output_type": "stream",
     "text": [
      "[0 1 2 3 4]\n",
      "[2 3 4 5 6 7 8]\n",
      "[5.  5.5 6.  6.5 7.  7.5]\n"
     ]
    }
   ],
   "source": [
    "# 連番の配列\n",
    "print(np.arange(5))\n",
    "print(np.arange(2, 9))\n",
    "print(np.arange(5, 8, 0.5))"
   ]
  },
  {
   "cell_type": "code",
   "execution_count": 8,
   "id": "dced833c",
   "metadata": {},
   "outputs": [
    {
     "name": "stdout",
     "output_type": "stream",
     "text": [
      "[ 2  4  6  8 10]\n"
     ]
    }
   ],
   "source": [
    "# 行列計算\n",
    "a = np.array([1, 2, 3, 4, 5])   #初期化\n",
    "b = a * 2  #計算\n",
    "print(b)"
   ]
  },
  {
   "cell_type": "code",
   "execution_count": 9,
   "id": "5ccf458e",
   "metadata": {},
   "outputs": [
    {
     "name": "stdout",
     "output_type": "stream",
     "text": [
      "[ 5  8 11 14 17 20 23 26 29 32]\n"
     ]
    }
   ],
   "source": [
    "# 行列計算 (その２)\n",
    "x = np.arange(10)\n",
    "y = 3 * x + 5\n",
    "print(y)"
   ]
  },
  {
   "cell_type": "code",
   "execution_count": 10,
   "id": "3fbaee85",
   "metadata": {},
   "outputs": [
    {
     "name": "stdout",
     "output_type": "stream",
     "text": [
      "(2, 3)\n",
      "(3, 3)\n"
     ]
    }
   ],
   "source": [
    "# NumPy 配列の次元数を調べる\n",
    "a = np.array([[1, 2, 3], [4, 5, 6]])\n",
    "print(a.shape)\n",
    "\n",
    "b = np.array([[1, 2, 3], [4, 5, 6], [7, 8, 9]])\n",
    "print(b.shape)"
   ]
  },
  {
   "cell_type": "code",
   "execution_count": 12,
   "id": "7ca92409",
   "metadata": {},
   "outputs": [
    {
     "name": "stdout",
     "output_type": "stream",
     "text": [
      "a= [[1 2 3]\n",
      " [4 5 6]]\n",
      "b= [1 2 3 4 5 6]\n"
     ]
    }
   ],
   "source": [
    "# NumPy で次元数を変換\n",
    "a = np.array([[1, 2, 3], [4, 5, 6]])\n",
    "print(\"a=\", a)\n",
    "b = a.flatten()\n",
    "print(\"b=\", b)"
   ]
  },
  {
   "cell_type": "code",
   "execution_count": 13,
   "id": "5327605e",
   "metadata": {},
   "outputs": [
    {
     "name": "stdout",
     "output_type": "stream",
     "text": [
      "[[1 2 3]\n",
      " [4 5 6]]\n",
      "[[1 2]\n",
      " [3 4]\n",
      " [5 6]]\n"
     ]
    }
   ],
   "source": [
    "# reshape() メソッドを使用して配列の次元数を任意の形状に変換\n",
    "a = np.array([[1, 2, 3], [4, 5, 6]])\n",
    "print(a)\n",
    "print(a.reshape(3, 2))"
   ]
  },
  {
   "cell_type": "code",
   "execution_count": 14,
   "id": "8a7032c5",
   "metadata": {},
   "outputs": [
    {
     "name": "stdout",
     "output_type": "stream",
     "text": [
      "a= [1 2 3]\n",
      "b= [[4 5 6]\n",
      " [7 8 9]]\n",
      "c= [1 4 7]\n"
     ]
    }
   ],
   "source": [
    "# NumPy 配列の要素にアクセス\n",
    "v = np.array([[1, 2, 3], [4, 5, 6], [7, 8, 9]])\n",
    "a = v[0]\n",
    "b = v[1:]\n",
    "c = v[: , 0]\n",
    "print(\"a=\", a)\n",
    "print(\"b=\", b)\n",
    "print(\"c=\", c)"
   ]
  }
 ],
 "metadata": {
  "kernelspec": {
   "display_name": "Python 3 (ipykernel)",
   "language": "python",
   "name": "python3"
  },
  "language_info": {
   "codemirror_mode": {
    "name": "ipython",
    "version": 3
   },
   "file_extension": ".py",
   "mimetype": "text/x-python",
   "name": "python",
   "nbconvert_exporter": "python",
   "pygments_lexer": "ipython3",
   "version": "3.8.5"
  }
 },
 "nbformat": 4,
 "nbformat_minor": 5
}
