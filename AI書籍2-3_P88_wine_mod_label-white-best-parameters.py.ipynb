{
 "cells": [
  {
   "cell_type": "code",
   "execution_count": 1,
   "id": "16d99c8f",
   "metadata": {},
   "outputs": [],
   "source": [
    "#import os\n",
    "import sys\n",
    "sys.dont_write_bytecode = True\n",
    "\n",
    "# for debug print\n",
    "def chkprint(*args):\n",
    "    from inspect import currentframe\n",
    "    names = {id(v):k for k,v in currentframe().f_back.f_locals.items()}\n",
    "    print(', '.join(names.get(id(arg),'???')+' : '+str(type(arg))+' = '+repr(arg) for arg in args))"
   ]
  },
  {
   "cell_type": "code",
   "execution_count": 2,
   "id": "cb9cedeb",
   "metadata": {},
   "outputs": [],
   "source": [
    "import pandas as pd\n",
    "from sklearn.model_selection import train_test_split\n",
    "from sklearn.ensemble import RandomForestClassifier \n",
    "from sklearn.metrics import accuracy_score\n",
    "from sklearn.metrics import classification_report\n",
    "import time"
   ]
  },
  {
   "cell_type": "code",
   "execution_count": 3,
   "id": "593b5481",
   "metadata": {},
   "outputs": [
    {
     "name": "stdout",
     "output_type": "stream",
     "text": [
      "              precision    recall  f1-score   support\n",
      "\n",
      "           0       0.64      0.21      0.32        42\n",
      "           1       0.95      0.99      0.97       913\n",
      "           2       1.00      0.52      0.68        25\n",
      "\n",
      "    accuracy                           0.95       980\n",
      "   macro avg       0.87      0.58      0.66       980\n",
      "weighted avg       0.94      0.95      0.94       980\n",
      "\n",
      "正解率= 0.9489795918367347\n",
      "\n",
      " elapsed_time:0.5547897815704346[sec]\n"
     ]
    }
   ],
   "source": [
    "# 時間計測 start\n",
    "start = time.time()\n",
    "\n",
    "# データを読み込む\n",
    "wine = pd.read_csv(\"winequality-white.csv\", sep=\";\", encoding=\"utf-8\")\n",
    "\n",
    "# データをラベルとデータに分離 ---(*1)\n",
    "y = wine[\"quality\"]\n",
    "x = wine.drop(\"quality\", axis=1)\n",
    "\n",
    "# y のラベルを付け直す ---(*2)\n",
    "newlist = []\n",
    "for v in list(y):\n",
    "    if v <= 4:\n",
    "        newlist += [0]\n",
    "    elif v <=7:\n",
    "        newlist += [1]\n",
    "    else:\n",
    "        newlist += [2]\n",
    "y = newlist\n",
    "\n",
    "#chkprint(y)\n",
    "\n",
    "# 学習用とテスト用に分類する ---(*3)\n",
    "x_train, x_test, y_train, y_test = train_test_split(x, y, test_size=0.2)\n",
    "\n",
    "#chkprint(x_train)\n",
    "#chkprint(x_test)\n",
    "#chkprint(y_train)\n",
    "#chkprint(y_test)\n",
    "\n",
    "# 学習する ---(*4)\n",
    "model = RandomForestClassifier(max_depth = 30, max_features = 'auto', n_estimators = 100)\n",
    "model.fit(x_train, y_train)\n",
    "\n",
    "# 評価する ---(*5)\n",
    "y_pred = model.predict(x_test)\n",
    "print(classification_report(y_test, y_pred))\n",
    "print(\"正解率=\", accuracy_score(y_test, y_pred))\n",
    "\n",
    "# 時間計測 finish\n",
    "elapsed_time = time.time() - start\n",
    "print (\"\\n elapsed_time:{0}\".format(elapsed_time) + \"[sec]\")"
   ]
  }
 ],
 "metadata": {
  "kernelspec": {
   "display_name": "Python 3 (ipykernel)",
   "language": "python",
   "name": "python3"
  },
  "language_info": {
   "codemirror_mode": {
    "name": "ipython",
    "version": 3
   },
   "file_extension": ".py",
   "mimetype": "text/x-python",
   "name": "python",
   "nbconvert_exporter": "python",
   "pygments_lexer": "ipython3",
   "version": "3.8.5"
  }
 },
 "nbformat": 4,
 "nbformat_minor": 5
}
