{
 "cells": [
  {
   "cell_type": "code",
   "execution_count": 1,
   "id": "16d99c8f",
   "metadata": {},
   "outputs": [],
   "source": [
    "import sys\n",
    "sys.dont_write_bytecode = True\n",
    "\n",
    "# for debug print\n",
    "def chkprint(*args):\n",
    "    from inspect import currentframe\n",
    "    names = {id(v):k for k,v in currentframe().f_back.f_locals.items()}\n",
    "    print(', '.join(names.get(id(arg),'???')+' : '+str(type(arg))+' = '+repr(arg) for arg in args))"
   ]
  },
  {
   "cell_type": "code",
   "execution_count": 2,
   "id": "cb9cedeb",
   "metadata": {},
   "outputs": [],
   "source": [
    "import pandas as pd\n",
    "from sklearn.model_selection import train_test_split\n",
    "from sklearn.ensemble import RandomForestClassifier \n",
    "from sklearn.metrics import accuracy_score\n",
    "from sklearn.metrics import classification_report\n",
    "from sklearn.utils import all_estimators\n",
    "import warnings\n",
    "import time\n",
    "\n",
    "from sklearn.svm import SVC\n",
    "\n"
   ]
  },
  {
   "cell_type": "code",
   "execution_count": 3,
   "id": "95c1fb5f",
   "metadata": {},
   "outputs": [
    {
     "name": "stdout",
     "output_type": "stream",
     "text": [
      "\n",
      " name       : RandomForestClassifier\n",
      "algorithm : <class 'abc.ABCMeta'> = <class 'sklearn.ensemble._forest.RandomForestClassifier'>\n",
      "正解率= 0.9377551020408164\n",
      "\n",
      " name       : SVC\n",
      "algorithm : <class 'abc.ABCMeta'> = <class 'sklearn.svm._classes.SVC'>\n",
      "正解率= 0.9132653061224489\n",
      "\n",
      " elapsed_time:0.8783540725708008[sec]\n"
     ]
    }
   ],
   "source": [
    "# 時間計測 start\n",
    "start = time.time()\n",
    "\n",
    "# ワイン白データ読み込み\n",
    "wine = pd.read_csv(\"winequality-white.csv\", sep=\";\", encoding=\"utf-8\")\n",
    "\n",
    "# データをラベルとデータに分離 \n",
    "y = wine[\"quality\"]\n",
    "x = wine.drop(\"quality\", axis=1)\n",
    "\n",
    "# y のラベルを付け直す \n",
    "newlist = []\n",
    "for v in list(y):\n",
    "    if v <= 4:\n",
    "        newlist += [0]\n",
    "    elif v <=7:\n",
    "        newlist += [1]\n",
    "    else:\n",
    "        newlist += [2]\n",
    "y = newlist\n",
    "\n",
    "\n",
    "# 学習用とテスト用に分離する \n",
    "x_train, x_test, y_train, y_test = train_test_split(x, y, test_size = 0.2, train_size = 0.8, shuffle = True)\n",
    "\n",
    "# classifierのアルゴリズム全てを取得する --- (※1)\n",
    "allAlgorithms = all_estimators(type_filter=\"classifier\")\n",
    "#warnings.simplefilter(\"error\")\n",
    "\n",
    "# オールアルゴリズムのリスト表示 と 数\n",
    "#chkprint(allAlgorithms)\n",
    "#print(len(allAlgorithms))\n",
    "\n",
    "max_score = 0\n",
    "max_name = 'null'\n",
    "for(name, algorithm) in allAlgorithms :\n",
    "  # 各アリゴリズムのオブジェクトを作成 --- (※2)\n",
    "  if(name == \"SVC\") :\n",
    "    print(\"\\n name       : \" + name)\n",
    "    chkprint(algorithm)\n",
    "    clf = algorithm()\n",
    "    #model = SVC()\n",
    "  elif(name == \"RandomForestClassifier\"):\n",
    "    print(\"\\n name       : \" + name)\n",
    "    chkprint(algorithm)\n",
    "    clf = algorithm()\n",
    "    #model = RandomForestClassifier()\n",
    "  else:\n",
    "    #print(\"\\n name       : \" + name)\n",
    "    continue\n",
    "    #clf = algorithm()\n",
    "    #name = int(name)\n",
    "    #model = name()\n",
    "\n",
    "  # 学習して、評価する --- (※3)\n",
    "  #model.fit(x_train, y_train)\n",
    "  #y_pred = model.predict(x_test)\n",
    "  clf.fit(x_train, y_train)\n",
    "  y_pred = clf.predict(x_test)\n",
    "  #print(classification_report(y_test, y_pred))\n",
    "  print(\"正解率=\", accuracy_score(y_test, y_pred))\n",
    "\n",
    "    \n",
    "# 時間計測 finish\n",
    "elapsed_time = time.time() - start\n",
    "print (\"\\n elapsed_time:{0}\".format(elapsed_time) + \"[sec]\")"
   ]
  },
  {
   "cell_type": "code",
   "execution_count": null,
   "id": "3b424d50",
   "metadata": {},
   "outputs": [],
   "source": []
  }
 ],
 "metadata": {
  "kernelspec": {
   "display_name": "Python 3 (ipykernel)",
   "language": "python",
   "name": "python3"
  },
  "language_info": {
   "codemirror_mode": {
    "name": "ipython",
    "version": 3
   },
   "file_extension": ".py",
   "mimetype": "text/x-python",
   "name": "python",
   "nbconvert_exporter": "python",
   "pygments_lexer": "ipython3",
   "version": "3.8.5"
  }
 },
 "nbformat": 4,
 "nbformat_minor": 5
}
