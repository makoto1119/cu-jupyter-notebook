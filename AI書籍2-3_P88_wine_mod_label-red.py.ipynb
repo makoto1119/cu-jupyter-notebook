{
 "cells": [
  {
   "cell_type": "code",
   "execution_count": 1,
   "id": "16d99c8f",
   "metadata": {},
   "outputs": [],
   "source": [
    "#import os\n",
    "import sys\n",
    "sys.dont_write_bytecode = True\n",
    "\n",
    "# for debug print\n",
    "def chkprint(*args):\n",
    "    from inspect import currentframe\n",
    "    names = {id(v):k for k,v in currentframe().f_back.f_locals.items()}\n",
    "    print(', '.join(names.get(id(arg),'???')+' : '+str(type(arg))+' = '+repr(arg) for arg in args))"
   ]
  },
  {
   "cell_type": "code",
   "execution_count": 2,
   "id": "cb9cedeb",
   "metadata": {},
   "outputs": [],
   "source": [
    "import pandas as pd\n",
    "from sklearn.model_selection import train_test_split\n",
    "from sklearn.ensemble import RandomForestClassifier \n",
    "from sklearn.metrics import accuracy_score\n",
    "from sklearn.metrics import classification_report"
   ]
  },
  {
   "cell_type": "code",
   "execution_count": 3,
   "id": "593b5481",
   "metadata": {},
   "outputs": [
    {
     "name": "stdout",
     "output_type": "stream",
     "text": [
      "              precision    recall  f1-score   support\n",
      "\n",
      "           0       0.33      0.06      0.11        16\n",
      "           1       0.94      0.99      0.97       300\n",
      "           2       1.00      0.25      0.40         4\n",
      "\n",
      "    accuracy                           0.94       320\n",
      "   macro avg       0.76      0.44      0.49       320\n",
      "weighted avg       0.91      0.94      0.92       320\n",
      "\n",
      "正解率= 0.9375\n"
     ]
    }
   ],
   "source": [
    "# データを読み込む\n",
    "wine = pd.read_csv(\"winequality-red.csv\", sep=\";\", encoding=\"utf-8\")\n",
    "\n",
    "# データをラベルとデータに分離 ---(*1)\n",
    "y = wine[\"quality\"]\n",
    "x = wine.drop(\"quality\", axis=1)\n",
    "\n",
    "# y のラベルを付け直す ---(*2)\n",
    "newlist = []\n",
    "for v in list(y):\n",
    "    if v <= 4:\n",
    "        newlist += [0]\n",
    "    elif v <=7:\n",
    "        newlist += [1]\n",
    "    else:\n",
    "        newlist += [2]\n",
    "y = newlist\n",
    "\n",
    "#chkprint(y)\n",
    "\n",
    "# 学習用とテスト用に分類する ---(*3)\n",
    "x_train, x_test, y_train, y_test = train_test_split(x, y, test_size=0.2)\n",
    "\n",
    "#chkprint(x_train)\n",
    "#chkprint(x_test)\n",
    "#chkprint(y_train)\n",
    "#chkprint(y_test)\n",
    "\n",
    "# 学習する ---(*4)\n",
    "model = RandomForestClassifier()\n",
    "model.fit(x_train, y_train)\n",
    "\n",
    "# 評価する ---(*5)\n",
    "y_pred = model.predict(x_test)\n",
    "print(classification_report(y_test, y_pred))\n",
    "print(\"正解率=\", accuracy_score(y_test, y_pred))"
   ]
  },
  {
   "cell_type": "code",
   "execution_count": null,
   "id": "140bcf03",
   "metadata": {},
   "outputs": [],
   "source": []
  }
 ],
 "metadata": {
  "kernelspec": {
   "display_name": "Python 3 (ipykernel)",
   "language": "python",
   "name": "python3"
  },
  "language_info": {
   "codemirror_mode": {
    "name": "ipython",
    "version": 3
   },
   "file_extension": ".py",
   "mimetype": "text/x-python",
   "name": "python",
   "nbconvert_exporter": "python",
   "pygments_lexer": "ipython3",
   "version": "3.8.5"
  }
 },
 "nbformat": 4,
 "nbformat_minor": 5
}
